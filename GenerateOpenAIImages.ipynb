{
  "nbformat": 4,
  "nbformat_minor": 0,
  "metadata": {
    "colab": {
      "provenance": [],
      "authorship_tag": "ABX9TyM5hlBsnUYDXTF0A4kkotJe",
      "include_colab_link": true
    },
    "kernelspec": {
      "name": "python3",
      "display_name": "Python 3"
    },
    "language_info": {
      "name": "python"
    }
  },
  "cells": [
    {
      "cell_type": "markdown",
      "metadata": {
        "id": "view-in-github",
        "colab_type": "text"
      },
      "source": [
        "<a href=\"https://colab.research.google.com/github/Michael-L-i-1/CS221-Final-Project/blob/master/GenerateOpenAIImages.ipynb\" target=\"_parent\"><img src=\"https://colab.research.google.com/assets/colab-badge.svg\" alt=\"Open In Colab\"/></a>"
      ]
    },
    {
      "cell_type": "code",
      "execution_count": null,
      "metadata": {
        "colab": {
          "base_uri": "https://localhost:8080/"
        },
        "id": "UfZwT2WNmplf",
        "outputId": "c6c87f7c-707b-4c15-8047-46e23a73eae2"
      },
      "outputs": [
        {
          "output_type": "stream",
          "name": "stdout",
          "text": [
            "Mounted at /content/drive\n"
          ]
        }
      ],
      "source": [
        "from google.colab import drive\n",
        "drive.mount('/content/drive')"
      ]
    },
    {
      "cell_type": "code",
      "source": [
        "data = [\n",
        "  \"A hoagie and a beer are sitting on the counter.\",\n",
        "  \"A woman dressed in black standing on a sidewalk.\",\n",
        "  \"A man and a woman walking down a street in front of a store.\",\n",
        "  \"A black woman and a white man working in a factory setting packing jars with candles into boxes\",\n",
        "  \"A professional hockey player is jumping above the ice with his hands in the air as the other players try to score on a goal as it 's being defended .\",\n",
        "  \"People eating at a vending truck on the side of the road.\",\n",
        "  \"people standing by a double decker bus and taking a photo of it\",\n",
        "  \"A blond woman watches a woman in wearing a pink flowery top holding her hand up as they both stand behind a bar .\",\n",
        "  \"A great facial expression on the girl cutting a cake and finding red on the knife \",\n",
        "  \"Fried breakfast food and beverages on a metallic table.\",\n",
        "  \"A man is walking through the courtyard of an old building .\",\n",
        "  \"A man walking down a beach holding a surf board\",\n",
        "  \"Five girls dancing and bending feet in ballet class\",\n",
        "  \"Two cows that are laying on the grass.\",\n",
        "  \"A band is performing for an audience .\",\n",
        "  \"An old lady selling tickets to people\",\n",
        "  \"Graffiti of a weasel on a wall .\",\n",
        "  \"Four bicyclists in turquoise and striped tops are riding in a competition .\",\n",
        "  \"A smiling child near a number of pastries with lit candles.\",\n",
        "  \"People visiting a stadium .\",\n",
        "  \"A female in a pink costume strikes a martial arts pose for an audience .\",\n",
        "  \"Skateboarder kicks up a red skateboard near other people. \",\n",
        "  \"A woman seated indoors wearing glasses , an orange shirt , jeans and sandals is eating from a container in her hand .\",\n",
        "  \"man in blue shirt and jeans on ladder cleaning windows\",\n",
        "  \"The luggage is connected to the rail so that no one may take it. \",\n",
        "  \"two guys drinking beer outside on a bench .\",\n",
        "  \"a large lake with a lone duck swimming in it with several people around the edge of it\",\n",
        "  \"A golfer is holding his backstroke pose during a tournament while being watched by hundreds of onlookers .\",\n",
        "  \"A large white clock tower sticking out of the top of a building.\",\n",
        "  \"a female tennis player in a gray top playing tennis\",\n",
        "  \"A street scene has cars driving at night time. \",\n",
        "  \"A black dog carrying some seaweed out of the water .\",\n",
        "  \"A dog is investigating a box of dog biscuits.\",\n",
        "  \"Woman and child enjoy the view from te lakeside .\",\n",
        "  \"Man in a blue shirt sleeping in a recliner .\",\n",
        "  \"A dog jumps through the grass .\",\n",
        "  \"The man has just finished hiking up a rock\",\n",
        "  \"A man in a brown shirt and jeans kneels with no shoes on a rug near a blue wall and a black gate .\",\n",
        "  \"A guy is skateboarding in front of a crowd .\",\n",
        "  \"A man in a suit and top hat talking on a phone.\",\n",
        "  \"A man climbing a palm tree cutting down palms .\",\n",
        "  \"A person in a purple coat at the top of a ski slope and a ski lift on the side.\",\n",
        "  \"Several cows standing in a row on a large open farm.\",\n",
        "  \"Men smiling in front of a light .\",\n",
        "  \"A street vendor sells popcorn in a mall .\",\n",
        "  \"There is a clock with a cow picture on it\",\n",
        "  \"a base ball game in progress at a stadium\",\n",
        "  \"Vehicles stopped along a road where cattle are passing by.\",\n",
        "  \"This marketplace has a lot of fresh fruit and vegetables.\",\n",
        "  \"There 's an invisible man holding a rainbow umbrella .\",\n",
        "  \"A woman that is sitting down in the snow.\",\n",
        "  \"Amazing men in wheelchair racing competition show what they got .\",\n",
        "  \"A large group of people approaching airplanes on a tarmac.\",\n",
        "  \"A group of equestrians are out for a trail ride.\",\n",
        "  \"Two men in suits laugh together .\",\n",
        "  \"a nice living room with a large t.v.\",\n",
        "  \"A couple stands behind their wedding cake\",\n",
        "  \"A meal including cooked carrots and a glass of Coke.\",\n",
        "  \"Three small puppies run through the green grass .\",\n",
        "  \"A man with a black shirt giving another man a tattoo\",\n",
        "  \"A man is milling wood at a festival .\",\n",
        "  \"Two people contest a game of chess on a wooden table .\",\n",
        "  \"A man showing off the PlayStation Move controller.\",\n",
        "  \"Two men sit at work computers and work at night .\",\n",
        "  \"A security guard on watch duty at the museum\",\n",
        "  \"a group of people are getting off a plane\",\n",
        "  \"a man takes a walk on the pier .\",\n",
        "  \"A rusty old fire hydrant surrounded by weeds.\",\n",
        "  \"A bunch of goats graze in a big field\",\n",
        "  \"Young woman sitting outside wearing sunglasses .\",\n",
        "  \"A man operating some heavy machinery .\",\n",
        "  \"A male surfer in a black wetsuit standing on a white surfboard is riding in a small wave on the ocean.\",\n",
        "  \"A tennis player holding a tennis racquet while he serves a tennis ball.\",\n",
        "  \"A small plate of food sits next to a laptop.\",\n",
        "  \"A room with three bunk bed sets and a stack full of mattresses.\",\n",
        "  \"A female figure skating in a black leotard .\",\n",
        "  \"A man riding his bicycle in a competition waving at an audience member .\",\n",
        "  \"African American man stands outside wearing a colorful orange and yellow shirt and jacket\",\n",
        "  \"various plates and silverware places on a table\",\n",
        "  \"Two boys on a field throwing a ball at night time. \",\n",
        "  \"A street corner has a sign, and across the street is a store. \",\n",
        "  \"THERE IS A KITCEHN WITH A STOVE IN IT \",\n",
        "  \"A man wearing a demonic joker shirt using a smart phone.\",\n",
        "  \"Biker doing a trick in air .\",\n",
        "  \"An ATV rider , speeds around a corner , while sliding and kicking up dirt-still focused on the trail ahead .\",\n",
        "  \"A man posing in a rocky area\",\n",
        "  \"a street with cars and trucks lined up on it.\",\n",
        "  \"A dining room table is in a large kitchen.\",\n",
        "  \"An intense roller derby event reaching its peak .\",\n",
        "  \"The contents of a purse are laying on a table.\",\n",
        "  \"A man is sitting near a statue .\",\n",
        "  \"A young man is doing a trick over some stairs.\",\n",
        "  \"Passengers are boarding and getting off the trains .\",\n",
        "  \"a man holding a bat so he can hit the ball \",\n",
        "  \"Man working behind a hotdog stand .\",\n",
        "  \"A woman making some food inside her kitchen.\",\n",
        "  \"A lot of birds that are on top of a building.\",\n",
        "  \"A man working on a sand sculpture .\",\n",
        "  \"A photo of a person carrying a surf board out of the waves.\",\n",
        "  \"A person is driving an all-terrain vehicle through a muddy course .\"\n",
        "]"
      ],
      "metadata": {
        "id": "P1S4ECrBwi9J"
      },
      "execution_count": null,
      "outputs": []
    },
    {
      "cell_type": "code",
      "source": [
        "!ls \"/content/drive/Shareddrives/CS221 Project/dataset/Final2\""
      ],
      "metadata": {
        "id": "CWMEhv84wpET",
        "collapsed": true
      },
      "execution_count": null,
      "outputs": []
    },
    {
      "cell_type": "code",
      "source": [
        "from openai import OpenAI\n",
        "import base64\n",
        "import os\n",
        "import time\n",
        "from tqdm import tqdm\n",
        "from google.colab import userdata\n",
        "\n",
        "# Initialize OpenAI client\n",
        "os.environ[\"OPENAI_API_KEY\"] = userdata.get(\"OPEN_AI_API_KEY\")\n",
        "client = OpenAI()\n",
        "\n",
        "# Set up the output directory\n",
        "output_dir = \"/content/drive/Shareddrives/CS221 Project/dataset/Final2\"\n",
        "os.makedirs(output_dir, exist_ok=True)\n",
        "\n",
        "# Process each prompt\n",
        "for i, prompt in enumerate(tqdm(data, desc=\"Generating images\")):\n",
        "    try:\n",
        "        # Generate image\n",
        "        result = client.images.generate(\n",
        "            model=\"gpt-image-1\",\n",
        "            size=\"1024x1024\",\n",
        "            prompt=prompt.strip(),\n",
        "            quality=\"medium\"\n",
        "        )\n",
        "\n",
        "        # Decode the base64 image\n",
        "        image_base64 = result.data[0].b64_json\n",
        "        image_bytes = base64.b64decode(image_base64)\n",
        "\n",
        "        # Save the image with a numbered filename\n",
        "        filename = f\"fake_image_{i:03d}.png\"\n",
        "        filepath = os.path.join(output_dir, filename)\n",
        "\n",
        "        with open(filepath, \"wb\") as f:\n",
        "            f.write(image_bytes)\n",
        "\n",
        "        print(f\"Saved: {filename} - '{prompt[:50]}...'\")\n",
        "\n",
        "        # Add a small delay to avoid rate limiting\n",
        "        time.sleep(1)\n",
        "\n",
        "    except Exception as e:\n",
        "        print(f\"Error generating image {i}: {e}\")\n",
        "        continue\n",
        "\n",
        "print(f\"\\nCompleted! Images saved to: {output_dir}\")"
      ],
      "metadata": {
        "colab": {
          "base_uri": "https://localhost:8080/"
        },
        "id": "TidAC5bEx7j8",
        "outputId": "7a464be8-eda1-40d4-f3f4-4657b870e1c2"
      },
      "execution_count": null,
      "outputs": [
        {
          "output_type": "stream",
          "name": "stderr",
          "text": [
            "\rGenerating images:   0%|          | 0/1 [00:00<?, ?it/s]"
          ]
        },
        {
          "output_type": "stream",
          "name": "stdout",
          "text": [
            "Saved: fake_image_000.png - 'A hoagie and a beer are sitting on the counter....'\n"
          ]
        },
        {
          "output_type": "stream",
          "name": "stderr",
          "text": [
            "Generating images: 100%|██████████| 1/1 [00:19<00:00, 19.55s/it]"
          ]
        },
        {
          "output_type": "stream",
          "name": "stdout",
          "text": [
            "\n",
            "Completed! Images saved to: /content/drive/Shareddrives/CS221 Project/dataset/Final2\n"
          ]
        },
        {
          "output_type": "stream",
          "name": "stderr",
          "text": [
            "\n"
          ]
        }
      ]
    }
  ]
}